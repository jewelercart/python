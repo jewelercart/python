{
 "cells": [
  {
   "cell_type": "markdown",
   "id": "39455d88",
   "metadata": {},
   "source": [
    "## <center>Homework 3</center>"
   ]
  },
  {
   "cell_type": "code",
   "execution_count": 1,
   "id": "90844179",
   "metadata": {},
   "outputs": [],
   "source": [
    "import scipy.stats as sp\n",
    "import math"
   ]
  },
  {
   "cell_type": "markdown",
   "id": "0ca150ec",
   "metadata": {},
   "source": [
    "### Q.1\n",
    "The weights of steers in a herd are distributed normally.  The variance is 40,000 and the mean steer weight is 1300 lbs.  Find the probability that the weight of a randomly selected steer is greater than 979 lbs. (Round your answer to 4 decimal places)"
   ]
  },
  {
   "cell_type": "code",
   "execution_count": 2,
   "id": "1d9a9870",
   "metadata": {},
   "outputs": [
    {
     "name": "stdout",
     "output_type": "stream",
     "text": [
      "The probability that weight of a randomly selected steer is greater than 979 is 0.9458\n"
     ]
    }
   ],
   "source": [
    "mean_wt = 1300\n",
    "variance = 40000\n",
    "std = math.sqrt(variance)\n",
    "x = 979\n",
    "z_score = (x-mean_wt)/std \n",
    "pr = 1-sp.norm.cdf(z_score)\n",
    "print(f\"The probability that weight of a randomly selected steer is greater than 979 is {round(pr, 4)}\")\n"
   ]
  },
  {
   "cell_type": "markdown",
   "id": "67860d9e",
   "metadata": {},
   "source": [
    "## Q.2\n",
    "SVGA monitors manufactured by TSI Electronics have life spans that have a normal distribution with a variance of 1,960,000 and a mean life span of 11,000 hours.  If a SVGA monitor is selected at random, find the probability that the life span of the monitor will be more than 8340 hours. (Round your answer to 4 decimal places)"
   ]
  },
  {
   "cell_type": "code",
   "execution_count": 3,
   "id": "a0db2a9b",
   "metadata": {},
   "outputs": [
    {
     "name": "stdout",
     "output_type": "stream",
     "text": [
      "The probability that the life span of a randomly selected SVGA monitor is greater than 8340 is 0.9713\n"
     ]
    }
   ],
   "source": [
    "mean_life = 11000\n",
    "variance = 1960000\n",
    "std = math.sqrt(variance)\n",
    "x = 8340\n",
    "z_score = (x-mean_life)/std \n",
    "pr = 1-sp.norm.cdf(z_score)\n",
    "print(f\"The probability that the life span of a randomly selected SVGA monitor is greater than {x} is {round(pr, 4)}\")"
   ]
  },
  {
   "cell_type": "markdown",
   "id": "851882c2",
   "metadata": {},
   "source": [
    "## Q.3 \n",
    "Suppose the mean income of firms in the industry for a year is 80 million dollars with a standard deviation of 3 million dollars.  If incomes for the industry are distributed normally, what is the probability that a randomly selected firm will earn between 83 and 85 million dollars? (Round your answer to 4 decimal places)"
   ]
  },
  {
   "cell_type": "code",
   "execution_count": 4,
   "id": "97a76a6d",
   "metadata": {},
   "outputs": [
    {
     "name": "stdout",
     "output_type": "stream",
     "text": [
      "The probability that a randomly selected firm earns between 83 and 85 million dollars is 0.1109\n"
     ]
    }
   ],
   "source": [
    "mean_income = 80  # million dollars\n",
    "std = 3 # million dollars\n",
    "x1 = 83\n",
    "x2 = 85 \n",
    "z_score1 = (x1-mean_income)/std \n",
    "z_score2 = (x2-mean_income)/std\n",
    "pr1 = sp.norm.cdf(z_score1)\n",
    "pr2 = sp.norm.cdf(z_score2)\n",
    "\n",
    "print(f\"The probability that a randomly selected firm earns between {x1} and {x2} million dollars is {round(pr2-pr1, 4)}\")"
   ]
  },
  {
   "cell_type": "markdown",
   "id": "bccd12c4",
   "metadata": {},
   "source": [
    "## Q.4 \n",
    "Suppose GRE Verbal scores are normally distributed with a mean of 456 and a standard deviation of 123.  A university plans to offer tutoring jobs to students whose scores are in the top 14%.  What is the minimum score required for the job offer?  Round your answer to the nearest whole number, if necessary."
   ]
  },
  {
   "cell_type": "code",
   "execution_count": 5,
   "id": "3817227b",
   "metadata": {},
   "outputs": [
    {
     "name": "stdout",
     "output_type": "stream",
     "text": [
      "The minimum score required to get the job offer is 589\n"
     ]
    }
   ],
   "source": [
    "mean_score = 456  # million dollars\n",
    "std = 123 # million dollars\n",
    "pr_right = 0.14    # 14% = 0.14\n",
    "z_core=sp.norm.ppf(1-pr_right)\n",
    "x=mean_score+z_core*std\n",
    "print(f\"The minimum score required to get the job offer is {round(x)}\")"
   ]
  },
  {
   "cell_type": "markdown",
   "id": "86cb9907",
   "metadata": {},
   "source": [
    "### Q.5 \n",
    "The lengths of nails produced in a factory are normally distributed with a mean of 6.13 centimeters and a standard deviation of 0.06 centimeters.  Find the two lengths that separate the top 7% and the bottom 7%.  These lengths could serve as limits used to identify which nails should be rejected.  Round your answer to the nearest hundredth, if necessary."
   ]
  },
  {
   "cell_type": "code",
   "execution_count": 6,
   "id": "ba3ab8b1",
   "metadata": {},
   "outputs": [
    {
     "name": "stdout",
     "output_type": "stream",
     "text": [
      "The lower limit is 6.04 and the upper limit is 6.22\n"
     ]
    }
   ],
   "source": [
    "mean_len = 6.13\n",
    "std = 0.06\n",
    "low_pr = 0.07    \n",
    "upper_pr = 0.07+(1-0.14)\n",
    "z1 = sp.norm.ppf(low_pr)\n",
    "z2 = sp.norm.ppf(upper_pr)\n",
    "x1=mean_len+z1*std\n",
    "x2=mean_len+z2*std\n",
    "print(f\"The lower limit is {round(x1, 2)} and the upper limit is {round(x2, 2)}\")\n"
   ]
  },
  {
   "cell_type": "markdown",
   "id": "d6939fc3",
   "metadata": {},
   "source": [
    "### Q.6\n",
    "An English professor assigns letter grades on a test according to the following scheme.<br>\n",
    "\tA:  Top 13% of scores<br>\n",
    "\tB:  Scores below the top 13% and above the bottom 55%<br>\n",
    "\tC:  Scores below the top 45% and above the bottom 20%<br>\n",
    "\tD:  Scores below the top 80% and above the bottom 9%<br>\n",
    "\tF:  Bottom 9% of scores<br>\n",
    "\tScores on the test are normally distributed with a mean of 78.8 and a standard deviation of 9.8.  Find the numerical limits for a C grade.  Round your answers to the nearest whole number, if necessary.\n"
   ]
  },
  {
   "cell_type": "code",
   "execution_count": 7,
   "id": "0298ae40",
   "metadata": {},
   "outputs": [
    {
     "name": "stdout",
     "output_type": "stream",
     "text": [
      "For the C grades lower limit is 71 and the upper limit is 80\n"
     ]
    }
   ],
   "source": [
    "mean_score = 78.8 \n",
    "std = 9.8 \n",
    "# For C grade score should be below top 45% it means area under right tail is Pr2 = 0.45\n",
    "# and lower limit must be calculated using the left tail area which is pr1 = 0.20 \n",
    "pr_of_lowL= 0.20\n",
    "pr_of_left_of_uppL = 1-0.45\n",
    "z1 = sp.norm.ppf(pr_of_lowL)\n",
    "z2 = sp.norm.ppf(pr_of_left_of_uppL)\n",
    "x1=mean_score+z1*std\n",
    "x2=mean_score+z2*std\n",
    "print(f\"For the C grades lower limit is {round(x1)} and the upper limit is {round(x2)}\")"
   ]
  },
  {
   "cell_type": "markdown",
   "id": "eb01f545",
   "metadata": {},
   "source": [
    "## Q.7\n",
    "Suppose ACT Composite scores are normally distributed with a mean of 21.2 and a standard deviation of 5.4.  A university plans to admit students whose scores are in the top 45%.  What is the minimum score required for admission?  Round your answer to the nearest tenth, if necessary."
   ]
  },
  {
   "cell_type": "code",
   "execution_count": 8,
   "id": "f939b273",
   "metadata": {},
   "outputs": [
    {
     "name": "stdout",
     "output_type": "stream",
     "text": [
      "The minimum score required for admission is 21.9\n"
     ]
    }
   ],
   "source": [
    "mean_score = 21.2 \n",
    "std = 5.4 \n",
    "pr_right = 0.45 \n",
    "pr_left = 1-pr_right\n",
    "z = sp.norm.ppf(pr_left)\n",
    "x= mean_score+z*std\n",
    "print(f\"The minimum score required for admission is {round(x, 1)}\")"
   ]
  },
  {
   "cell_type": "markdown",
   "id": "6599ce06",
   "metadata": {},
   "source": [
    "### Q.8\n",
    "Consider the probability that less than 11 out of 151 students will not graduate on time.  Assume the probability that a given student will not graduate on time is 9%.  Approximate the probability using the normal distribution. (Round your answer to 4 decimal places.)"
   ]
  },
  {
   "cell_type": "code",
   "execution_count": 9,
   "id": "8c1e9913",
   "metadata": {},
   "outputs": [
    {
     "name": "stdout",
     "output_type": "stream",
     "text": [
      "The probability that less than 11 out of 151 will graduate is 0.1898\n"
     ]
    }
   ],
   "source": [
    "p = 0.09\n",
    "q=1-p\n",
    "n = 151\n",
    "x=11\n",
    "mean = n*p \n",
    "x_upd = 11-0.5\n",
    "sigma = math.sqrt(n*p*q)\n",
    "# Assuming normal distribution. P(x<11) = ? \n",
    "z = (x_upd-mean)/sigma\n",
    "pr = sp.norm.cdf(z)\n",
    "print(f\"The probability that less than 11 out of 151 will graduate is {round(pr, 4)}\")"
   ]
  },
  {
   "cell_type": "markdown",
   "id": "89169fb7",
   "metadata": {},
   "source": [
    "### Q.9\n",
    "The mean lifetime of a tire is 48 months with a standard deviation of 7.  If 147 tires are sampled, what is the probability that the mean of the sample would be greater than 48.83 months? (Round your answer to 4 decimal places)"
   ]
  },
  {
   "cell_type": "code",
   "execution_count": 10,
   "id": "d1351377",
   "metadata": {},
   "outputs": [
    {
     "name": "stdout",
     "output_type": "stream",
     "text": [
      "The probability that the mean of the sample is grater than 48.83 is 0.0753\n"
     ]
    }
   ],
   "source": [
    "mean_life=48\n",
    "std = 7\n",
    "n=147\n",
    "stdx = std/math.sqrt(n)\n",
    "mu_x = 48.83\n",
    "z = (mu_x-mean_life)/stdx\n",
    "pr_right = 1- sp.norm.cdf (z)\n",
    "print(f\"The probability that the mean of the sample is grater than 48.83 is {round(pr_right, 4)}\")"
   ]
  },
  {
   "cell_type": "markdown",
   "id": "e693ff13",
   "metadata": {},
   "source": [
    "### Q. 10\n",
    "The quality control manager at a computer manufacturing company believes that the mean life of a computer is 91 months, with a standard deviation of 10.  If he is correct, what is the probability that the mean of a sample of 68 computers would be greater than 93.54 months? (Round your answer to 4 decimal places)"
   ]
  },
  {
   "cell_type": "code",
   "execution_count": 11,
   "id": "cedd6f8d",
   "metadata": {},
   "outputs": [
    {
     "name": "stdout",
     "output_type": "stream",
     "text": [
      "The probability that the mean of the sample is grater than 93.54 is 0.0181\n"
     ]
    }
   ],
   "source": [
    "mean_life=91\n",
    "std = 10\n",
    "n=68\n",
    "stdx = std/math.sqrt(n)\n",
    "mu_x = 93.54\n",
    "z = (mu_x-mean_life)/stdx\n",
    "pr_right = 1- sp.norm.cdf (z)\n",
    "print(f\"The probability that the mean of the sample is grater than {mu_x} is {round(pr_right,4)}\")"
   ]
  },
  {
   "cell_type": "markdown",
   "id": "1e6c1b16",
   "metadata": {},
   "source": [
    "### Q. 11\n",
    "A director of reservations believes that 7% of the ticketed passengers are no-shows.  If the director is right, what is the probability that the proportion of no-shows in a sample of 540 ticketed passengers would differ from the population proportion by less than 3%? (Round your answer to 4 decimal places)"
   ]
  },
  {
   "cell_type": "code",
   "execution_count": 12,
   "id": "27bd80dd",
   "metadata": {},
   "outputs": [
    {
     "name": "stdout",
     "output_type": "stream",
     "text": [
      "The probability that the prortion in the sample differ by true proportion less than 3% is 0.9937\n"
     ]
    }
   ],
   "source": [
    "p = 0.07\n",
    "q = 1-p\n",
    "n = 540 \n",
    "sigma_p = math.sqrt(p*q/n)\n",
    "# differ by 3% means, the lower limit and the upper limit is 3% away from the true proportion\n",
    "# So it will be like confidence interval probability\n",
    "Up_prop = 0.07 + 0.03\n",
    "L_prop =  0.07 - 0.03\n",
    "z2 = (Up_prop-p)/sigma_p\n",
    "z1 = (L_prop - p)/ sigma_p\n",
    "pr2 = sp.norm.cdf(z2)\n",
    "pr1 = sp.norm.cdf(z1)\n",
    "pr =pr2-pr1\n",
    "print(f\"The probability that the prortion in the sample differ by true proportion less than 3% is {round(pr, 4)}\")"
   ]
  },
  {
   "cell_type": "markdown",
   "id": "f90f5897",
   "metadata": {},
   "source": [
    "### Q. 12\n",
    "A bottle maker believes that 23% of his bottles are defective.  If the bottle maker is accurate, what is the probability that the proportion of defective bottles in a sample of 602 bottles would differ from the population proportion by greater than 4%? (Round your answer to 4 decimal places)"
   ]
  },
  {
   "cell_type": "code",
   "execution_count": 13,
   "id": "4d250e15",
   "metadata": {},
   "outputs": [
    {
     "name": "stdout",
     "output_type": "stream",
     "text": [
      "The probability that the prortion in the sample differ from the true proportion greater than 4% is 0.0197\n"
     ]
    }
   ],
   "source": [
    "p = 0.23\n",
    "q=1-p\n",
    "n=602\n",
    "sigma_p = math.sqrt(p*q/n)\n",
    "Up_prop= p+0.04\n",
    "L_prop = p-0.04\n",
    "z2 = (Up_prop-p)/sigma_p\n",
    "z1 = (L_prop - p)/ sigma_p\n",
    "pr2 = sp.norm.cdf(z2)\n",
    "pr1 = sp.norm.cdf(z1)\n",
    "pr =1-(pr2-pr1)    # Taking both tails so I'm subtracting CI from 1\n",
    "print(f\"The probability that the prortion in the sample differ from the true proportion greater than 4% is {round(pr, 4)}\")"
   ]
  },
  {
   "cell_type": "markdown",
   "id": "e2425551",
   "metadata": {},
   "source": [
    "### Q. 13\n",
    "A research company desires to know the mean consumption of beef per week among males over age 48.  Suppose a sample of size 208 is drawn with $\\bar{x}$ = 3.9.  Assume $\\sigma$ = 0.8 .  Construct the 80% confidence interval for the mean number of lb. of beef per week among males over 48. (Round your answers to 1 decimal place) \n"
   ]
  },
  {
   "cell_type": "code",
   "execution_count": 14,
   "id": "57545135",
   "metadata": {},
   "outputs": [
    {
     "name": "stdout",
     "output_type": "stream",
     "text": [
      "Lower limit :  3.8\n",
      "Upper limit :  4.0\n"
     ]
    }
   ],
   "source": [
    "n = 208\n",
    "xbar = 3.9\n",
    "sigma = 0.8 \n",
    "sigma_x = sigma/math.sqrt(n)\n",
    "alpha  = (1-0.8)/2\n",
    "z = sp.norm.ppf(alpha)\n",
    "L_limit = xbar+z*sigma_x\n",
    "U_limit = xbar-z*sigma_x\n",
    "print(f\"Lower limit :  {round(L_limit, 1)}\")\n",
    "print(f\"Upper limit :  {round(U_limit, 1)}\")"
   ]
  },
  {
   "cell_type": "markdown",
   "id": "1731a1e3",
   "metadata": {},
   "source": [
    "### Q. 14\n",
    "An economist wants to estimate the mean per capita income (in thousands of dollars) in a major city in California.  Suppose a sample of size 7472 is drawn with $\\bar{x}$ = 16.6.  Assume $\\sigma$ = 11 .  Construct the 98% confidence interval for the mean per capita income. (Round your answers to 1 decimal place) "
   ]
  },
  {
   "cell_type": "code",
   "execution_count": 15,
   "id": "a9f48af8",
   "metadata": {},
   "outputs": [
    {
     "name": "stdout",
     "output_type": "stream",
     "text": [
      "Lower limit :  16.3\n",
      "Upper limit :  16.9\n"
     ]
    }
   ],
   "source": [
    "n=7472\n",
    "xbar = 16.6\n",
    "sigma=11\n",
    "sigmax = sigma/math.sqrt(n)\n",
    "alpha = (1-0.98)/2\n",
    "z = sp.norm.ppf(alpha)\n",
    "L_limit = xbar+z*sigmax\n",
    "U_limit = xbar-z*sigmax\n",
    "print(f\"Lower limit :  {round(L_limit, 1)}\")\n",
    "print(f\"Upper limit :  {round(U_limit, 1)}\")"
   ]
  },
  {
   "attachments": {
    "image-2.png": {
     "image/png": "[encoded data removed]"
    },
    "image-3.png": {
     "image/png": "[encoded data removed]"
    },
    "image-4.png": {
     "image/png": "[encoded data removed]"
    },
    "image.png": {
     "image/png": "[encoded data removed]"
    }
   },
   "cell_type": "markdown",
   "id": "f23eaf39",
   "metadata": {},
   "source": [
    "### Q. 15\n",
    "Find the value of t such that 0.05 of the area under the curve is to the left of t.  Assume the degrees of freedom equals 26.<br> \n",
    "Step 1. Choose the picture which best describes the problem.\n",
    "![image.png](attachment:image.png)  ![image-2.png](attachment:image-2.png)\n",
    "![image-3.png](attachment:image-3.png) ![image-4.png](attachment:image-4.png)\n",
    "\n",
    "Step 2. Write your answer below. \n",
    "\n"
   ]
  },
  {
   "cell_type": "code",
   "execution_count": 16,
   "id": "c9f193d8",
   "metadata": {},
   "outputs": [
    {
     "name": "stdout",
     "output_type": "stream",
     "text": [
      "The second picture from top represent area left of t which is shaded green left of t\n",
      "Required critical value t = -1.7056\n"
     ]
    }
   ],
   "source": [
    "print(\"The second picture from top represent area left of t which is shaded green left of t\")\n",
    "df = 26\n",
    "t = sp.t.ppf(0.05, df)\n",
    "print(f\"Required critical value t = {round(t, 4)}\")"
   ]
  },
  {
   "cell_type": "markdown",
   "id": "be3a720a",
   "metadata": {},
   "source": [
    "### Q. 16\n",
    "The following measurements ( in picocuries per liter ) were recorded by a set of helium gas detectors installed in a laboratory facility:  \n",
    "\t                                             383.6, 347.1, 371.9, 347.6, 325.8, 337\n",
    "\tUsing these measurements, construct a 90% confidence interval for the mean level of helium gas present in the facility.  Assume the population is normally distributed.  \n",
    "\n",
    "Step 1. Calculate the sample mean for the given sample data. (Round answer to 2 decimal places) \n",
    "\n",
    "\n",
    "Step 2. Calculate the sample standard deviation for the given sample data. (Round answer to 2 decimal places) \n",
    "\n",
    "\n",
    "Step 3. Find the critical value that should be used in constructing the confidence interval. (Round answer to 3 decimal places) \n",
    "\n",
    "\n",
    "Step 4. Construct the 90% confidence interval. (Round answer to 2 decimal places)\n"
   ]
  },
  {
   "cell_type": "code",
   "execution_count": 17,
   "id": "9c305ffe",
   "metadata": {},
   "outputs": [
    {
     "name": "stdout",
     "output_type": "stream",
     "text": [
      "Lower limit :  334.34\n",
      "Upper limit :  370.0\n"
     ]
    }
   ],
   "source": [
    "import numpy as np \n",
    "# Step 1 \n",
    "data = [383.6, 347.1, 371.9, 347.6, 325.8, 337]\n",
    "n=len(data)\n",
    "s_mean = np.mean(data)\n",
    "\n",
    "# Step 2\n",
    "s_std = np.std(data, ddof = 1)\n",
    "\n",
    "# Step 3\n",
    "\n",
    "alpha = (1-0.9)/2\n",
    "t = sp.t.ppf(alpha, n-1)\n",
    "\n",
    "# Step 4\n",
    "L_limit = s_mean + t*s_std/math.sqrt(n)\n",
    "U_limit = s_mean - t*s_std/math.sqrt(n)\n",
    "\n",
    "print(f\"Lower limit :  {round(L_limit, 2)}\")\n",
    "print(f\"Upper limit :  {round(U_limit, 2)}\")"
   ]
  },
  {
   "cell_type": "markdown",
   "id": "494d3f8e",
   "metadata": {},
   "source": [
    "### Q. 17\n",
    "A random sample of 16 fields of spring wheat has a mean yield of 46.4 bushels per acre and standard deviation of 2.45 bushels per acre.  Determine the 80% confidence interval for the true mean yield.  Assume the population is normally distributed.  \n",
    "\n",
    "Step 1. Find the critical value that should be used in constructing the confidence interval. (Round answer to 3 decimal places) \n",
    "\n",
    "\n",
    "Step 2. Construct the 80% confidence interval. (Round answer to 1 decimal place)\n"
   ]
  },
  {
   "cell_type": "code",
   "execution_count": 18,
   "id": "f785ffd2",
   "metadata": {},
   "outputs": [
    {
     "name": "stdout",
     "output_type": "stream",
     "text": [
      "Lower limit :  45.6\n",
      "Upper limit :  47.2\n"
     ]
    }
   ],
   "source": [
    "n = 16\n",
    "df = n-1\n",
    "s_mean = 46.4\n",
    "s_std = 2.45\n",
    "s_std_x = s_std/math.sqrt(n)\n",
    "alpha = (1-0.80)/2\n",
    "t = sp.t.ppf(1-alpha, df)\n",
    "L_limit = s_mean - t*s_std_x\n",
    "U_limit = s_mean + t*s_std_x\n",
    "\n",
    "print(f\"Lower limit :  {round(L_limit, 1)}\")\n",
    "print(f\"Upper limit :  {round(U_limit, 1)}\")"
   ]
  },
  {
   "cell_type": "markdown",
   "id": "f5d95990",
   "metadata": {},
   "source": [
    "### Q. 18\n",
    "A toy manufacturer wants to know how many new toys children buy each year.  She thinks the mean is 8 toys per year.  Assume a previous study found the standard deviation to be 1.9.  How large of a sample would be required in order to estimate the mean number of toys bought per child at the 99% confidence level with an error of at most 0.13 toys? (Round your answer up to the next integer)"
   ]
  },
  {
   "cell_type": "code",
   "execution_count": 19,
   "id": "7595a2f4",
   "metadata": {},
   "outputs": [
    {
     "name": "stdout",
     "output_type": "stream",
     "text": [
      "The required sample size is 1418\n"
     ]
    }
   ],
   "source": [
    "mean = 8\n",
    "sigma = 1.9\n",
    "CI = 0.99 \n",
    "alpha = (1-CI)/2\n",
    "## Assuming normal distribution with know sigma \n",
    "error = 0.13 \n",
    "z = sp.norm.ppf(1-alpha)\n",
    "n = (z*sigma/error)**2\n",
    "print(f\"The required sample size is {round(n)+1}\")"
   ]
  },
  {
   "cell_type": "markdown",
   "id": "33a57809",
   "metadata": {},
   "source": [
    "### Q. 19\n",
    "A research scientist wants to know how many times per hour a certain strand of bacteria reproduces.  He believes that the mean is 12.6.  Assume the variance is known to be 3.61.  How large of a sample would be required in order to estimate the mean number of reproductions per hour at the 95% confidence level with an error of at most 0.19 reproductions? (Round your answer up to the next integer)"
   ]
  },
  {
   "cell_type": "code",
   "execution_count": 20,
   "id": "b7f39319",
   "metadata": {},
   "outputs": [
    {
     "name": "stdout",
     "output_type": "stream",
     "text": [
      "The required sample size is 385\n"
     ]
    }
   ],
   "source": [
    "mean = 12.6\n",
    "variance = 3.61 \n",
    "sigma = math.sqrt(variance)\n",
    "CI = 0.95 \n",
    "alpha = (1-CI)/2\n",
    "## Assuming normal distribution with know sigma \n",
    "error = 0.19 \n",
    "z = sp.norm.ppf(1-alpha)\n",
    "n = (z*sigma/error)**2\n",
    "print(f\"The required sample size is {round(n)+1}\")"
   ]
  },
  {
   "cell_type": "markdown",
   "id": "674a4d07",
   "metadata": {},
   "source": [
    "### Q. 20\n",
    "The state education commission wants to estimate the fraction of tenth grade students that have reading skills at or below the eighth grade level.\n",
    "\n",
    "Step 1. Suppose a sample of 2089 tenth graders is drawn. Of the students sampled, 1734 read above the eighth grade level.  Using the data, estimate the proportion of tenth graders reading at or below the eighth grade level. (Write your answer as a fraction or a decimal number rounded to 3 decimal places) \n",
    "\n",
    "\n",
    "Step 2. Suppose a sample of 2089 tenth graders is drawn.  Of the students sampled, 1734 read above the eighth grade level.  Using the data, construct the 98% confidence interval for the population proportion of tenth graders reading at or below the eighth grade level. (Round your answers to 3 decimal places)\n"
   ]
  },
  {
   "cell_type": "code",
   "execution_count": 21,
   "id": "fa5b50bd",
   "metadata": {},
   "outputs": [
    {
     "name": "stdout",
     "output_type": "stream",
     "text": [
      "Estimated proportion of 10 grader who read at or below 8th grade is 0.170 \n",
      "Lower limit :  0.151\n",
      "Upper limit :  0.189\n"
     ]
    }
   ],
   "source": [
    "n= 2089\n",
    "x = 1734 \n",
    "p = x/n\n",
    "q = 1-p\n",
    "#Step 1\n",
    "print(\"Estimated proportion of 10 grader who read at or below 8th grade is %.3f \"%q)\n",
    "\n",
    "#Step 2\n",
    "sigma_p = math.sqrt(p*q/n)\n",
    "CI = 0.98 \n",
    "alpha = (1-0.98)/2\n",
    "z = sp.norm.ppf(1-alpha)\n",
    "L_limit = q-z*sigma_p\n",
    "U_limit = q+z*sigma_p\n",
    "\n",
    "print(f\"Lower limit :  {round(L_limit, 3)}\")\n",
    "print(f\"Upper limit :  {round(U_limit, 3)}\")\n",
    "\n"
   ]
  },
  {
   "cell_type": "markdown",
   "id": "5fdd7af0",
   "metadata": {},
   "source": [
    "### Q. 21\n",
    "An environmentalist wants to find out the fraction of oil tankers that have spills each month.\n",
    "\n",
    "Step 1. Suppose a sample of 474 tankers is drawn.  Of these ships, 156 had spills.  Using the data, estimate the proportion of oil tankers that had spills. (Write your answer as a fraction or a decimal number rounded to 3 decimal places) \n",
    "\n",
    "Step 2. Suppose a sample of 474 tankers is drawn.  Of these ships, 156 had spills.  Using the data, construct the 95% confidence interval for the population proportion of oil tankers that have spills each month. (Round your answers to 3 decimal places)"
   ]
  },
  {
   "cell_type": "code",
   "execution_count": 22,
   "id": "83a645ee",
   "metadata": {
    "scrolled": true
   },
   "outputs": [
    {
     "name": "stdout",
     "output_type": "stream",
     "text": [
      "Estimated proportion of oil tanks that had spills 0.329 \n",
      "Lower limit :  0.279\n",
      "Upper limit :  0.379\n"
     ]
    }
   ],
   "source": [
    "n= 474\n",
    "x = 156\n",
    "p = x/n\n",
    "q = 1-p\n",
    "#Step 1\n",
    "print(\"Estimated proportion of oil tanks that had spills %.3f \"%p)\n",
    "\n",
    "#Step 2\n",
    "sigma_p = math.sqrt(p*q/n)\n",
    "CI = 0.95\n",
    "alpha = (1-0.98)/2\n",
    "z = sp.norm.ppf(1-alpha)\n",
    "L_limit = p-z*sigma_p\n",
    "U_limit = p+z*sigma_p\n",
    "\n",
    "print(f\"Lower limit :  {round(L_limit, 3)}\")\n",
    "print(f\"Upper limit :  {round(U_limit, 3)}\")\n"
   ]
  },
  {
   "cell_type": "markdown",
   "id": "9225835c",
   "metadata": {},
   "source": []
  }
 ],
 "metadata": {
  "kernelspec": {
   "display_name": "Python 3 (ipykernel)",
   "language": "python",
   "name": "python3"
  },
  "language_info": {
   "codemirror_mode": {
    "name": "ipython",
    "version": 3
   },
   "file_extension": ".py",
   "mimetype": "text/x-python",
   "name": "python",
   "nbconvert_exporter": "python",
   "pygments_lexer": "ipython3",
   "version": "3.9.12"
  }
 },
 "nbformat": 4,
 "nbformat_minor": 5
}
