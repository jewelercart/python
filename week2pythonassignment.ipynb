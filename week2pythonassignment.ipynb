{
 "cells": [
  {
   "cell_type": "markdown",
   "id": "221afe01",
   "metadata": {},
   "source": [
    "### Program to calculate the eigen values and eigen vector  of a square array"
   ]
  },
  {
   "cell_type": "code",
   "execution_count": 15,
   "id": "00cba1b2",
   "metadata": {},
   "outputs": [],
   "source": [
    "def det(matrix):\n",
    "    \"\"\"\n",
    "    The function det(A) takes any matrix in list form. For example \n",
    "    A=[[1, 2, 3],\n",
    "       [3, 4, 5],\n",
    "       [5, 6, 7]]\n",
    "    det(A) will give the determinant of square matrix A. For, non square matrix, it will raise an error such that the matrix\n",
    "    is not a square matrix.\n",
    "    \"\"\"\n",
    "    # Assume determinant as determ and 0 as its initial value.\n",
    "    determ=0\n",
    "    # Import numpy module as np \n",
    "    import numpy as np\n",
    "    # If input array is a list like shown above, convert it to numpy array\n",
    "    matrix=np.array(matrix)\n",
    "    ## Now we will check if the matrix is square or not. If matrix is a square matyrix then its determinant\n",
    "    # can be computed else the function should raise an error.\n",
    "    # matrix.shape gives dimension of array in format like [number of rows, number of columns]\n",
    "    if matrix.shape[0] != matrix.shape[1]:\n",
    "        raise ValueError('The matrix is not a square matrix. Determinant can be computed only for a square matrix.')\n",
    "    \n",
    "    elif matrix.shape[0]==matrix.shape[1]:\n",
    "    \n",
    "    # If matrix is of dimension 2 by 2  [[a b], [c d]] then the determinant is just ad-bc\n",
    "        if matrix.shape[0]==2:\n",
    "            determ = matrix[0, 0]*matrix[1, 1]-matrix[0, 1]*matrix[1, 0]  \n",
    "        # if the matirx is of higher diemnsions then we use recursion to calculate the determinant. \n",
    "        \n",
    "        elif matrix.shape[0]>2:   # Check if the dimensions are greater than 2 x 2 \n",
    "            for i in range(matrix.shape[0]):\n",
    "                minor = np.delete(np.delete(matrix, 0, axis=0), i, axis=1)  # Calculate the minor \n",
    "                determ += (-1)**i * matrix[0, i] * det(minor)     # calculate determinant using recursion \n",
    "    \n",
    "    return (determ)   # return the determ i.e., determinant \n",
    "\n",
    "def eigenSym(A):\n",
    "    \"\"\"This functions calculates the eigen values symbolically using sympy module\n",
    "    The draw back of using solveset is that it does not show the multiplicity of roots. However, it is based on the \n",
    "    mathematics behind the eigen values calculation\"\"\"\n",
    "    from sympy import solveset, Symbol  \n",
    "    import numpy as np\n",
    "    A = np.array(A)\n",
    "    if A.shape[0] != A.shape[1]:\n",
    "        raise ValueError('The matrix is not a square matrix. Eigen values can be computed only for a square matrix.')\n",
    "    \n",
    "    elif A.shape[0]==A.shape[1]:\n",
    "        x=Symbol('x')        \n",
    "        xi = x*np.identity(A.shape[0], dtype=int)\n",
    "        Axi = A-xi\n",
    "        det_Axi = det(Axi) \n",
    "        eigen_values= solveset(det_Axi, x)\n",
    "        return(eigen_values)"
   ]
  },
  {
   "cell_type": "code",
   "execution_count": 17,
   "id": "6298477b",
   "metadata": {},
   "outputs": [
    {
     "data": {
      "text/latex": [
       "$\\displaystyle \\left\\{-5, 10\\right\\}$"
      ],
      "text/plain": [
       "{-5, 10}"
      ]
     },
     "execution_count": 17,
     "metadata": {},
     "output_type": "execute_result"
    }
   ],
   "source": [
    "A=[[-5, -10, -5], \n",
    "    [2, 14, 2],\n",
    "   [-4, -8, 6]\n",
    "]\n",
    "eigenSym(A)"
   ]
  },
  {
   "cell_type": "code",
   "execution_count": 18,
   "id": "6f9f4366",
   "metadata": {},
   "outputs": [],
   "source": [
    "#for i in range(A.shape[0]):\n",
    "#    minor = np.delete(np.delete(A, 0, axis=0), i, axis=1)\n",
    "#    print(minor, end = '   ')\n",
    "#    print(A[0, i])"
   ]
  },
  {
   "cell_type": "code",
   "execution_count": 19,
   "id": "ae33295e",
   "metadata": {},
   "outputs": [
    {
     "name": "stdout",
     "output_type": "stream",
     "text": [
      "Eigen values are: [10.+2.27759435e-07j 10.-2.27759435e-07j -5.+0.00000000e+00j]\n",
      "Eigen_vectors are:\n",
      " [[ 6.06932737e+00  6.06932737e+00 -8.94427191e+00]\n",
      " [-2.85714286e+00 -2.85714286e+00 -8.36660027e+00]\n",
      " [ 8.24277415e-15  8.24277415e-15  1.37124257e-14]]\n"
     ]
    }
   ],
   "source": [
    "import warnings\n",
    "warnings.filterwarnings('ignore')\n",
    "def eigen_val_vec(A):\n",
    "    \"\"\"This program utilizes the numpy.roots() to calculate the roots instead of sympy.solsets()\"\"\"\n",
    "    from sympy import solveset, Symbol\n",
    "    import numpy as np\n",
    "    \n",
    "    A = np.array(A)\n",
    "    eigen_vec=np.zeros((A.shape[0], A.shape[0]))\n",
    "    polynomial = np.poly(A)\n",
    "    eigen_vals = np.roots(polynomial)\n",
    "    for i in range(A.shape[0]):\n",
    "        shifted_matrix = A-eigen_vals[i]*np.eye(A.shape[0])\n",
    "        _,vec = np.linalg.qr(shifted_matrix)\n",
    "        eigen_vec[:, i]=vec[:, -1]\n",
    "    return(eigen_vals, eigen_vec)\n",
    "eigen_values, eigen_vectors=eigen_val_vec(A)\n",
    "print(f\"Eigen values are: {eigen_values}\")\n",
    "print(f\"Eigen_vectors are:\\n {eigen_vectors}\")"
   ]
  },
  {
   "cell_type": "markdown",
   "id": "b466a292",
   "metadata": {},
   "source": [
    "### Program to to compute the factor of a given array by Singular Value Decomposition\n"
   ]
  },
  {
   "cell_type": "code",
   "execution_count": 20,
   "id": "41ad647f",
   "metadata": {},
   "outputs": [
    {
     "name": "stdout",
     "output_type": "stream",
     "text": [
      "Matrix U:\n",
      "[[ 0.61962948 -0.78489445]\n",
      " [ 0.78489445  0.61962948]]\n",
      "\n",
      "Matrix Σ:\n",
      "[[9.52551809 0.        ]\n",
      " [0.         0.51430058]]\n",
      "\n",
      "Matrix V^T:\n",
      "[[-0.2298477  -0.52474482 -0.81964194]\n",
      " [-0.88346102 -0.24078249  0.40189603]]\n"
     ]
    }
   ],
   "source": [
    "import numpy as np\n",
    "\n",
    "def svd(matrix, epsilon=1e-10):\n",
    "    # Compute A^T * A and A * A^T\n",
    "    A_transpose_A = np.dot(matrix.T, matrix)\n",
    "    A_A_transpose = np.dot(matrix, matrix.T)\n",
    "\n",
    "    # Find eigenvalues and eigenvectors of A^T * A and A * A^T\n",
    "    eigenvalues_U, U = np.linalg.eigh(A_transpose_A)\n",
    "    eigenvalues_V, V = np.linalg.eigh(A_A_transpose)\n",
    "\n",
    "    # Sort eigenvalues and eigenvectors in descending order\n",
    "    sort_indices_U = np.argsort(eigenvalues_U)[::-1]\n",
    "    sort_indices_V = np.argsort(eigenvalues_V)[::-1]\n",
    "    U = U[:, sort_indices_U]\n",
    "    V = V[:, sort_indices_V]\n",
    "    eigenvalues_U = eigenvalues_U[sort_indices_U]\n",
    "    eigenvalues_V = eigenvalues_V[sort_indices_V]\n",
    "\n",
    "    # Calculate the singular values from the eigenvalues\n",
    "    singular_values = np.sqrt(eigenvalues_U)\n",
    "\n",
    "    # Calculate the pseudoinverse of singular values\n",
    "    singular_values_inv = np.where(singular_values > epsilon, 1.0 / singular_values, 0)\n",
    "\n",
    "    # Calculate the matrices U, Σ, and V^T\n",
    "    U = U[:, :len(singular_values)]\n",
    "    Sigma = np.diag(singular_values)\n",
    "    V = V[:, :len(singular_values)].T\n",
    "\n",
    "    return U, Sigma, V\n",
    "\n",
    "# Example usage:\n",
    "if __name__ == \"__main__\":\n",
    "    # Replace the following matrix with your input array\n",
    "    matrix = np.array([[1, 2], [3, 4], [5, 6]])\n",
    "\n",
    "    U, Sigma, V = svd(matrix)\n",
    "\n",
    "    print(\"Matrix U:\")\n",
    "    print(U)\n",
    "\n",
    "    print(\"\\nMatrix Σ:\")\n",
    "    print(Sigma)\n",
    "\n",
    "    print(\"\\nMatrix V^T:\")\n",
    "    print(V)\n"
   ]
  },
  {
   "cell_type": "markdown",
   "id": "78616cd1",
   "metadata": {},
   "source": [
    "### Program to calculate the determinant of a given square array"
   ]
  },
  {
   "cell_type": "code",
   "execution_count": 21,
   "id": "ebd20231",
   "metadata": {},
   "outputs": [],
   "source": [
    "def det(matrix):\n",
    "    \"\"\"\n",
    "    The function det(A) takes any matrix in list form. For example \n",
    "    A=[[1, 2, 3],\n",
    "       [3, 4, 5],\n",
    "       [5, 6, 7]]\n",
    "    det(A) will give the determinant of square matrix A. For, non square matrix, it will raise an error such that the matrix\n",
    "    is not a square matrix.\n",
    "    \"\"\"\n",
    "    # Assume determinant as determ and 0 as its initial value.\n",
    "    determ=0\n",
    "    # Import numpy module as np \n",
    "    import numpy as np\n",
    "    # If input array is a list like shown above, convert it to numpy array\n",
    "    matrix=np.array(matrix)\n",
    "    ## Now we will check if the matrix is square or not. If matrix is a square matyrix then its determinant\n",
    "    # can be computed else the function should raise an error.\n",
    "    # matrix.shape gives dimension of array in format like [number of rows, number of columns]\n",
    "    if matrix.shape[0] != matrix.shape[1]:\n",
    "        raise ValueError('The matrix is not a square matrix. Determinant can be computed only for a square matrix.')\n",
    "    \n",
    "    elif matrix.shape[0]==matrix.shape[1]:\n",
    "    \n",
    "    # If matrix is of dimension 2 by 2  [[a b], [c d]] then the determinant is just ad-bc\n",
    "        if matrix.shape[0]==2:\n",
    "            determ = matrix[0, 0]*matrix[1, 1]-matrix[0, 1]*matrix[1, 0]  \n",
    "        # if the matirx is of higher diemnsions then we use recursion to calculate the determinant. \n",
    "        \n",
    "        elif matrix.shape[0]>2:   # Check if the dimensions are greater than 2 x 2 \n",
    "            for i in range(matrix.shape[0]):\n",
    "                minor = np.delete(np.delete(matrix, 0, axis=0), i, axis=1)  # Calculate the minor \n",
    "                determ += (-1)**i * matrix[0, i] * det(minor)     # calculate determinant using recursion \n",
    "    \n",
    "    return (determ)   # return the determ i.e., determinant \n"
   ]
  },
  {
   "cell_type": "code",
   "execution_count": 22,
   "id": "77403320",
   "metadata": {},
   "outputs": [
    {
     "name": "stdout",
     "output_type": "stream",
     "text": [
      "Help on function det in module __main__:\n",
      "\n",
      "det(matrix)\n",
      "    The function det(A) takes any matrix in list form. For example \n",
      "    A=[[1, 2, 3],\n",
      "       [3, 4, 5],\n",
      "       [5, 6, 7]]\n",
      "    det(A) will give the determinant of square matrix A. For, non square matrix, it will raise an error such that the matrix\n",
      "    is not a square matrix.\n",
      "\n"
     ]
    }
   ],
   "source": [
    "help(det)"
   ]
  },
  {
   "cell_type": "code",
   "execution_count": 23,
   "id": "d11bff9d",
   "metadata": {},
   "outputs": [
    {
     "name": "stdout",
     "output_type": "stream",
     "text": [
      "Determinant = -6\n"
     ]
    }
   ],
   "source": [
    "A =[[2, -4],   \n",
    "     [-1, -1]]\n",
    "try:\n",
    "    determinant = det(A)\n",
    "    print(f\"Determinant = {determinant}\")\n",
    "except ValueError as error:\n",
    "    print(error)\n"
   ]
  }
 ],
 "metadata": {
  "kernelspec": {
   "display_name": "Python 3 (ipykernel)",
   "language": "python",
   "name": "python3"
  },
  "language_info": {
   "codemirror_mode": {
    "name": "ipython",
    "version": 3
   },
   "file_extension": ".py",
   "mimetype": "text/x-python",
   "name": "python",
   "nbconvert_exporter": "python",
   "pygments_lexer": "ipython3",
   "version": "3.9.12"
  }
 },
 "nbformat": 4,
 "nbformat_minor": 5
}
